{
 "cells": [
  {
   "cell_type": "code",
   "execution_count": null,
   "metadata": {},
   "outputs": [],
   "source": [
    "1. npm init -y\n",
    "2. npm install graphql apollo -server\n",
    "3. npm install --save -dev nodemon\n",
    "4. npm install jsonwebtoken\n",
    "5. npm start"
   ]
  }
 ],
 "metadata": {
  "language_info": {
   "name": "python"
  }
 },
 "nbformat": 4,
 "nbformat_minor": 2
}
